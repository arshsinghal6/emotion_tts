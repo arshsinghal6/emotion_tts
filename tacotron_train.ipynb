{
 "cells": [
  {
   "cell_type": "code",
   "execution_count": 1,
   "metadata": {},
   "outputs": [],
   "source": [
    "import os\n",
    "import csv\n",
    "\n",
    "import torch\n",
    "import numpy as np"
   ]
  },
  {
   "cell_type": "code",
   "execution_count": 2,
   "metadata": {},
   "outputs": [],
   "source": [
    "MODEL_NAME = 'Tacotron2'\n",
    "CPU_RUN = True"
   ]
  },
  {
   "cell_type": "code",
   "execution_count": 21,
   "metadata": {},
   "outputs": [],
   "source": [
    "from ESDDataset import ESDDataset\n",
    "\n",
    "d = ESDDataset(dataset_dir='./data/Emotion Speech Dataset')"
   ]
  },
  {
   "cell_type": "code",
   "execution_count": 22,
   "metadata": {},
   "outputs": [],
   "source": [
    "d.df[\"mel_text_pair\"] = d.df['audio_file_path'] + '|' + d.df['transcription']"
   ]
  },
  {
   "cell_type": "code",
   "execution_count": 27,
   "metadata": {},
   "outputs": [],
   "source": [
    "from sklearn.model_selection import train_test_split\n",
    "\n",
    "train, test = train_test_split(d.df, test_size=0.2)\n",
    "\n",
    "train.to_csv(path_or_buf='./data/train_mel_text_pairs.txt', columns=['mel_text_pair'], index=False, header=False, quoting=csv.QUOTE_NONE, escapechar='\\\\')\n",
    "test.to_csv(path_or_buf='./data/test_mel_text_pairs.txt', columns=['mel_text_pair'], index=False, header=False, quoting=csv.QUOTE_NONE, escapechar='\\\\')"
   ]
  },
  {
   "cell_type": "code",
   "execution_count": 3,
   "metadata": {},
   "outputs": [],
   "source": [
    "import argparse\n",
    "from train import parse_args\n",
    "from models import model_parser\n",
    "\n",
    "args = argparse.ArgumentParser()\n",
    "parser = parse_args(args)\n",
    "parser = model_parser(MODEL_NAME, parser)"
   ]
  },
  {
   "cell_type": "code",
   "execution_count": 4,
   "metadata": {},
   "outputs": [],
   "source": [
    "args = parser.parse_args('--epochs 10 -lr 1e-4 -bs 1 -m Tacotron2 -o ./ --sampling-rate 16000'.split())"
   ]
  },
  {
   "cell_type": "code",
   "execution_count": 6,
   "metadata": {},
   "outputs": [],
   "source": [
    "from DeepLearningExamples.PyTorch.SpeechSynthesis.Tacotron2.tacotron2.data_function import TextMelLoader\n",
    "\n",
    "train_dataset = TextMelLoader(dataset_path='', audiopaths_and_text='./data/train_mel_text_pairs.txt', args=args)\n",
    "val_dataset = TextMelLoader(dataset_path='', audiopaths_and_text='./data/test_mel_text_pairs.txt', args=args)"
   ]
  },
  {
   "cell_type": "code",
   "execution_count": 7,
   "metadata": {},
   "outputs": [],
   "source": [
    "from torch.utils.data import DataLoader\n",
    "import data_functions\n",
    "\n",
    "collate_fn = data_functions.get_collate_function(\n",
    "        MODEL_NAME, args.n_frames_per_step)\n",
    "train_loader = DataLoader(train_dataset, num_workers=1, shuffle=False,\n",
    "                              sampler=None,\n",
    "                              batch_size=args.batch_size, pin_memory=False,\n",
    "                              drop_last=True, collate_fn=collate_fn)"
   ]
  },
  {
   "cell_type": "code",
   "execution_count": 8,
   "metadata": {},
   "outputs": [],
   "source": [
    "def adjust_learning_rate(iteration, epoch, optimizer, learning_rate,\n",
    "                         anneal_steps, anneal_factor, rank):\n",
    "\n",
    "    p = 0\n",
    "    if anneal_steps is not None:\n",
    "        for i, a_step in enumerate(anneal_steps):\n",
    "            if epoch >= int(a_step):\n",
    "                p = p+1\n",
    "\n",
    "    if anneal_factor == 0.3:\n",
    "        lr = learning_rate*((0.1 ** (p//2))*(1.0 if p % 2 == 0 else 0.3))\n",
    "    else:\n",
    "        lr = learning_rate*(anneal_factor ** p)\n",
    "\n",
    "    if optimizer.param_groups[0]['lr'] != lr:\n",
    "        print(step=(epoch, iteration), data={'learning_rate changed': str(optimizer.param_groups[0]['lr'])+\" -> \"+str(lr)})\n",
    "\n",
    "    for param_group in optimizer.param_groups:\n",
    "        param_group['lr'] = lr"
   ]
  },
  {
   "cell_type": "code",
   "execution_count": 9,
   "metadata": {},
   "outputs": [],
   "source": [
    "def validate(model, criterion, valset, epoch, batch_iter, batch_size,\n",
    "             world_size, collate_fn, distributed_run, perf_bench, batch_to_gpu, amp_run):\n",
    "    \"\"\"Handles all the validation scoring and printing\"\"\"\n",
    "    \n",
    "    model.eval()\n",
    "    with torch.no_grad():\n",
    "        val_loader = DataLoader(valset, num_workers=1, shuffle=False,\n",
    "                                sampler=None,\n",
    "                                batch_size=batch_size, pin_memory=False,\n",
    "                                collate_fn=collate_fn,\n",
    "                                drop_last=(True if perf_bench else False))\n",
    "\n",
    "        val_loss = 0.0\n",
    "        num_iters = 0\n",
    "        val_items_per_sec = 0.0\n",
    "        for i, batch in enumerate(val_loader):\n",
    "\n",
    "            x, y, num_items = batch_to_gpu(batch)\n",
    "            #AMP upstream autocast\n",
    "            with torch.cuda.amp.autocast(enabled=amp_run):\n",
    "                y_pred = model(x)\n",
    "                loss = criterion(y_pred, y)\n",
    "\n",
    "            reduced_val_loss = loss.item()\n",
    "            reduced_num_items = num_items.item()\n",
    "            val_loss += reduced_val_loss\n",
    "            \n",
    "            num_iters += 1\n",
    "\n",
    "        val_loss = val_loss/num_iters\n",
    "        val_items_per_sec = val_items_per_sec/num_iters\n",
    "\n",
    "\n",
    "        print(step=(epoch,), data={'val_loss': val_loss})\n",
    "        print(step=(epoch,), data={'val_items_per_sec': val_items_per_sec})\n",
    "\n",
    "        return val_loss, val_items_per_sec"
   ]
  },
  {
   "cell_type": "code",
   "execution_count": 17,
   "metadata": {},
   "outputs": [],
   "source": [
    "def save_checkpoint(model, optimizer, scaler, epoch, config, output_dir,\n",
    "                    model_name, local_rank, world_size):\n",
    "\n",
    "    random_rng_state = torch.random.get_rng_state().cuda()\n",
    "    cuda_rng_state = torch.cuda.get_rng_state(local_rank).cuda()\n",
    "\n",
    "    random_rng_states_all = [torch.empty_like(random_rng_state) for _ in range(world_size)]\n",
    "    cuda_rng_states_all = [torch.empty_like(cuda_rng_state) for _ in range(world_size)]\n",
    "\n",
    "    # if world_size > 1:\n",
    "    #     dist.all_gather(random_rng_states_all, random_rng_state)\n",
    "    #     dist.all_gather(cuda_rng_states_all, cuda_rng_state)\n",
    "    # else:\n",
    "    random_rng_states_all = [random_rng_state]\n",
    "    cuda_rng_states_all = [cuda_rng_state]\n",
    "\n",
    "    random_rng_states_all = torch.stack(random_rng_states_all).cpu()\n",
    "    cuda_rng_states_all = torch.stack(cuda_rng_states_all).cpu()\n",
    "\n",
    "    if local_rank == 0:\n",
    "        checkpoint = {'epoch': epoch,\n",
    "                      'cuda_rng_state_all': cuda_rng_states_all,\n",
    "                      'random_rng_states_all': random_rng_states_all,\n",
    "                      'config': config,\n",
    "                      'state_dict': model.state_dict(),\n",
    "                      'optimizer': optimizer.state_dict(),\n",
    "                      'scaler': scaler.state_dict()}\n",
    "\n",
    "        checkpoint_filename = \"checkpoint_{}_{}.pt\".format(model_name, epoch)\n",
    "        checkpoint_path = os.path.join(output_dir, checkpoint_filename)\n",
    "        print(\"Saving model and optimizer state at epoch {} to {}\".format(\n",
    "            epoch, checkpoint_path))\n",
    "        torch.save(checkpoint, checkpoint_path)\n",
    "\n",
    "        symlink_src = checkpoint_filename\n",
    "        symlink_dst = os.path.join(\n",
    "            output_dir, \"checkpoint_{}_last.pt\".format(model_name))\n",
    "        if os.path.exists(symlink_dst) and os.path.islink(symlink_dst):\n",
    "            print(\"Updating symlink\", symlink_dst, \"to point to\", symlink_src)\n",
    "            os.remove(symlink_dst)\n",
    "\n",
    "        os.symlink(symlink_src, symlink_dst)"
   ]
  },
  {
   "cell_type": "code",
   "execution_count": 18,
   "metadata": {},
   "outputs": [],
   "source": [
    "import models\n",
    "import loss_functions\n",
    "\n",
    "model_config = models.get_model_config(MODEL_NAME, args)\n",
    "model = models.get_model(MODEL_NAME, model_config, CPU_RUN,\n",
    "                         uniform_initialize_bn_weight=not args.disable_uniform_initialize_bn_weight)\n",
    "\n",
    "optimizer = torch.optim.Adam(model.parameters(), lr=args.learning_rate,\n",
    "                                 weight_decay=args.weight_decay)\n",
    "scaler = torch.cuda.amp.GradScaler(enabled=args.amp)\n",
    "\n",
    "criterion = loss_functions.get_loss_function(MODEL_NAME, sigma=None)"
   ]
  },
  {
   "cell_type": "code",
   "execution_count": 19,
   "metadata": {},
   "outputs": [],
   "source": [
    "def train():\n",
    "    # valset = data_functions.get_data_loader(\n",
    "    #         MODEL_NAME, args.dataset_path, args.validation_files, args)\n",
    "    batch_to_gpu = data_functions.get_batch_to_gpu(MODEL_NAME)\n",
    "\n",
    "    local_rank, world_size = args.rank, args.world_size\n",
    "    distributed_run = world_size > 1\n",
    "\n",
    "    epoch = [0]\n",
    "    start_epoch = epoch[0]\n",
    "    iteration = 0\n",
    "\n",
    "    for epoch in range(start_epoch, args.epochs):\n",
    "        # used to calculate avg items/sec over epoch\n",
    "        reduced_num_items_epoch = 0\n",
    "        \n",
    "        num_iters = 0\n",
    "        reduced_loss = 0\n",
    "        \n",
    "        for i, batch in enumerate(train_loader):\n",
    "            adjust_learning_rate(iteration, epoch, optimizer, args.learning_rate,\n",
    "                                        args.anneal_steps, args.anneal_factor, local_rank)\n",
    "\n",
    "            model.zero_grad()\n",
    "            x, y, num_items = batch_to_gpu(batch)\n",
    "\n",
    "            y_pred = model(x)\n",
    "            loss = criterion(y_pred, y)\n",
    "\n",
    "            reduced_loss = loss.item()\n",
    "            reduced_num_items = num_items.item()\n",
    "            if np.isnan(reduced_loss):\n",
    "                raise Exception(\"loss is NaN\")\n",
    "            \n",
    "\n",
    "            print(step=(epoch,i), data={'train_loss': reduced_loss})\n",
    "            num_iters += 1\n",
    "\n",
    "            # accumulate number of items processed in this epoch\n",
    "            reduced_num_items_epoch += reduced_num_items\n",
    "\n",
    "            if args.amp:\n",
    "                scaler.scale(loss).backward()\n",
    "                scaler.unscale_(optimizer)\n",
    "                torch.nn.utils.clip_grad_norm_(\n",
    "                    model.parameters(), args.grad_clip_thresh)\n",
    "                scaler.step(optimizer)\n",
    "                scaler.update()\n",
    "            else:\n",
    "                loss.backward()\n",
    "                torch.nn.utils.clip_grad_norm_(\n",
    "                    model.parameters(), args.grad_clip_thresh)\n",
    "                optimizer.step()\n",
    "\n",
    "            model.zero_grad(set_to_none=True)\n",
    "\n",
    "            print(step=(epoch,), data={'train_loss': reduced_loss})\n",
    "            # print(step=(epoch,), data={'train_epoch_time': epoch_time})\n",
    "\n",
    "            val_loss, val_items_per_sec = validate(model, criterion, val_dataset, epoch,\n",
    "                                                iteration, args.batch_size,\n",
    "                                                world_size, collate_fn,\n",
    "                                                distributed_run, args.bench_class==\"perf-train\",\n",
    "                                                batch_to_gpu,\n",
    "                                                args.amp)\n",
    "\n",
    "            if (epoch % args.epochs_per_checkpoint == 0) and (args.bench_class == \"\" or args.bench_class == \"train\"):\n",
    "                save_checkpoint(model, optimizer, scaler, epoch, model_config,\n",
    "                                args.output, args.model_name, local_rank, world_size)\n",
    "                \n",
    "            print(step=tuple(), data={'val_loss': val_loss})\n",
    "            print(step=tuple(), data={'train_loss': reduced_loss})"
   ]
  },
  {
   "cell_type": "code",
   "execution_count": 20,
   "metadata": {},
   "outputs": [
    {
     "ename": "IndexError",
     "evalue": "Dimension out of range (expected to be in range of [-1, 0], but got 1)",
     "output_type": "error",
     "traceback": [
      "\u001b[0;31m---------------------------------------------------------------------------\u001b[0m",
      "\u001b[0;31mIndexError\u001b[0m                                Traceback (most recent call last)",
      "Cell \u001b[0;32mIn[20], line 1\u001b[0m\n\u001b[0;32m----> 1\u001b[0m \u001b[43mtrain\u001b[49m\u001b[43m(\u001b[49m\u001b[43m)\u001b[49m\n",
      "Cell \u001b[0;32mIn[19], line 27\u001b[0m, in \u001b[0;36mtrain\u001b[0;34m()\u001b[0m\n\u001b[1;32m     24\u001b[0m model\u001b[38;5;241m.\u001b[39mzero_grad()\n\u001b[1;32m     25\u001b[0m x, y, num_items \u001b[38;5;241m=\u001b[39m batch_to_gpu(batch)\n\u001b[0;32m---> 27\u001b[0m y_pred \u001b[38;5;241m=\u001b[39m \u001b[43mmodel\u001b[49m\u001b[43m(\u001b[49m\u001b[43mx\u001b[49m\u001b[43m)\u001b[49m\n\u001b[1;32m     28\u001b[0m loss \u001b[38;5;241m=\u001b[39m criterion(y_pred, y)\n\u001b[1;32m     30\u001b[0m reduced_loss \u001b[38;5;241m=\u001b[39m loss\u001b[38;5;241m.\u001b[39mitem()\n",
      "File \u001b[0;32m/opt/homebrew/anaconda3/envs/deep_learning/lib/python3.11/site-packages/torch/nn/modules/module.py:1511\u001b[0m, in \u001b[0;36mModule._wrapped_call_impl\u001b[0;34m(self, *args, **kwargs)\u001b[0m\n\u001b[1;32m   1509\u001b[0m     \u001b[38;5;28;01mreturn\u001b[39;00m \u001b[38;5;28mself\u001b[39m\u001b[38;5;241m.\u001b[39m_compiled_call_impl(\u001b[38;5;241m*\u001b[39margs, \u001b[38;5;241m*\u001b[39m\u001b[38;5;241m*\u001b[39mkwargs)  \u001b[38;5;66;03m# type: ignore[misc]\u001b[39;00m\n\u001b[1;32m   1510\u001b[0m \u001b[38;5;28;01melse\u001b[39;00m:\n\u001b[0;32m-> 1511\u001b[0m     \u001b[38;5;28;01mreturn\u001b[39;00m \u001b[38;5;28;43mself\u001b[39;49m\u001b[38;5;241;43m.\u001b[39;49m\u001b[43m_call_impl\u001b[49m\u001b[43m(\u001b[49m\u001b[38;5;241;43m*\u001b[39;49m\u001b[43margs\u001b[49m\u001b[43m,\u001b[49m\u001b[43m \u001b[49m\u001b[38;5;241;43m*\u001b[39;49m\u001b[38;5;241;43m*\u001b[39;49m\u001b[43mkwargs\u001b[49m\u001b[43m)\u001b[49m\n",
      "File \u001b[0;32m/opt/homebrew/anaconda3/envs/deep_learning/lib/python3.11/site-packages/torch/nn/modules/module.py:1520\u001b[0m, in \u001b[0;36mModule._call_impl\u001b[0;34m(self, *args, **kwargs)\u001b[0m\n\u001b[1;32m   1515\u001b[0m \u001b[38;5;66;03m# If we don't have any hooks, we want to skip the rest of the logic in\u001b[39;00m\n\u001b[1;32m   1516\u001b[0m \u001b[38;5;66;03m# this function, and just call forward.\u001b[39;00m\n\u001b[1;32m   1517\u001b[0m \u001b[38;5;28;01mif\u001b[39;00m \u001b[38;5;129;01mnot\u001b[39;00m (\u001b[38;5;28mself\u001b[39m\u001b[38;5;241m.\u001b[39m_backward_hooks \u001b[38;5;129;01mor\u001b[39;00m \u001b[38;5;28mself\u001b[39m\u001b[38;5;241m.\u001b[39m_backward_pre_hooks \u001b[38;5;129;01mor\u001b[39;00m \u001b[38;5;28mself\u001b[39m\u001b[38;5;241m.\u001b[39m_forward_hooks \u001b[38;5;129;01mor\u001b[39;00m \u001b[38;5;28mself\u001b[39m\u001b[38;5;241m.\u001b[39m_forward_pre_hooks\n\u001b[1;32m   1518\u001b[0m         \u001b[38;5;129;01mor\u001b[39;00m _global_backward_pre_hooks \u001b[38;5;129;01mor\u001b[39;00m _global_backward_hooks\n\u001b[1;32m   1519\u001b[0m         \u001b[38;5;129;01mor\u001b[39;00m _global_forward_hooks \u001b[38;5;129;01mor\u001b[39;00m _global_forward_pre_hooks):\n\u001b[0;32m-> 1520\u001b[0m     \u001b[38;5;28;01mreturn\u001b[39;00m \u001b[43mforward_call\u001b[49m\u001b[43m(\u001b[49m\u001b[38;5;241;43m*\u001b[39;49m\u001b[43margs\u001b[49m\u001b[43m,\u001b[49m\u001b[43m \u001b[49m\u001b[38;5;241;43m*\u001b[39;49m\u001b[38;5;241;43m*\u001b[39;49m\u001b[43mkwargs\u001b[49m\u001b[43m)\u001b[49m\n\u001b[1;32m   1522\u001b[0m \u001b[38;5;28;01mtry\u001b[39;00m:\n\u001b[1;32m   1523\u001b[0m     result \u001b[38;5;241m=\u001b[39m \u001b[38;5;28;01mNone\u001b[39;00m\n",
      "File \u001b[0;32m~/Library/CloudStorage/OneDrive-GeorgiaInstituteofTechnology/Spring 2024/CS 7643/emotion_tts/DeepLearningExamples/PyTorch/SpeechSynthesis/Tacotron2/tacotron2/model.py:667\u001b[0m, in \u001b[0;36mTacotron2.forward\u001b[0;34m(self, inputs)\u001b[0m\n\u001b[1;32m    663\u001b[0m embedded_inputs \u001b[38;5;241m=\u001b[39m \u001b[38;5;28mself\u001b[39m\u001b[38;5;241m.\u001b[39membedding(inputs)\u001b[38;5;241m.\u001b[39mtranspose(\u001b[38;5;241m1\u001b[39m, \u001b[38;5;241m2\u001b[39m)\n\u001b[1;32m    665\u001b[0m encoder_outputs \u001b[38;5;241m=\u001b[39m \u001b[38;5;28mself\u001b[39m\u001b[38;5;241m.\u001b[39mencoder(embedded_inputs, input_lengths)\n\u001b[0;32m--> 667\u001b[0m mel_outputs, gate_outputs, alignments \u001b[38;5;241m=\u001b[39m \u001b[38;5;28;43mself\u001b[39;49m\u001b[38;5;241;43m.\u001b[39;49m\u001b[43mdecoder\u001b[49m\u001b[43m(\u001b[49m\n\u001b[1;32m    668\u001b[0m \u001b[43m    \u001b[49m\u001b[43mencoder_outputs\u001b[49m\u001b[43m,\u001b[49m\u001b[43m \u001b[49m\u001b[43mtargets\u001b[49m\u001b[43m,\u001b[49m\u001b[43m \u001b[49m\u001b[43mmemory_lengths\u001b[49m\u001b[38;5;241;43m=\u001b[39;49m\u001b[43minput_lengths\u001b[49m\u001b[43m)\u001b[49m\n\u001b[1;32m    670\u001b[0m mel_outputs_postnet \u001b[38;5;241m=\u001b[39m \u001b[38;5;28mself\u001b[39m\u001b[38;5;241m.\u001b[39mpostnet(mel_outputs)\n\u001b[1;32m    671\u001b[0m mel_outputs_postnet \u001b[38;5;241m=\u001b[39m mel_outputs \u001b[38;5;241m+\u001b[39m mel_outputs_postnet\n",
      "File \u001b[0;32m/opt/homebrew/anaconda3/envs/deep_learning/lib/python3.11/site-packages/torch/nn/modules/module.py:1511\u001b[0m, in \u001b[0;36mModule._wrapped_call_impl\u001b[0;34m(self, *args, **kwargs)\u001b[0m\n\u001b[1;32m   1509\u001b[0m     \u001b[38;5;28;01mreturn\u001b[39;00m \u001b[38;5;28mself\u001b[39m\u001b[38;5;241m.\u001b[39m_compiled_call_impl(\u001b[38;5;241m*\u001b[39margs, \u001b[38;5;241m*\u001b[39m\u001b[38;5;241m*\u001b[39mkwargs)  \u001b[38;5;66;03m# type: ignore[misc]\u001b[39;00m\n\u001b[1;32m   1510\u001b[0m \u001b[38;5;28;01melse\u001b[39;00m:\n\u001b[0;32m-> 1511\u001b[0m     \u001b[38;5;28;01mreturn\u001b[39;00m \u001b[38;5;28;43mself\u001b[39;49m\u001b[38;5;241;43m.\u001b[39;49m\u001b[43m_call_impl\u001b[49m\u001b[43m(\u001b[49m\u001b[38;5;241;43m*\u001b[39;49m\u001b[43margs\u001b[49m\u001b[43m,\u001b[49m\u001b[43m \u001b[49m\u001b[38;5;241;43m*\u001b[39;49m\u001b[38;5;241;43m*\u001b[39;49m\u001b[43mkwargs\u001b[49m\u001b[43m)\u001b[49m\n",
      "File \u001b[0;32m/opt/homebrew/anaconda3/envs/deep_learning/lib/python3.11/site-packages/torch/nn/modules/module.py:1520\u001b[0m, in \u001b[0;36mModule._call_impl\u001b[0;34m(self, *args, **kwargs)\u001b[0m\n\u001b[1;32m   1515\u001b[0m \u001b[38;5;66;03m# If we don't have any hooks, we want to skip the rest of the logic in\u001b[39;00m\n\u001b[1;32m   1516\u001b[0m \u001b[38;5;66;03m# this function, and just call forward.\u001b[39;00m\n\u001b[1;32m   1517\u001b[0m \u001b[38;5;28;01mif\u001b[39;00m \u001b[38;5;129;01mnot\u001b[39;00m (\u001b[38;5;28mself\u001b[39m\u001b[38;5;241m.\u001b[39m_backward_hooks \u001b[38;5;129;01mor\u001b[39;00m \u001b[38;5;28mself\u001b[39m\u001b[38;5;241m.\u001b[39m_backward_pre_hooks \u001b[38;5;129;01mor\u001b[39;00m \u001b[38;5;28mself\u001b[39m\u001b[38;5;241m.\u001b[39m_forward_hooks \u001b[38;5;129;01mor\u001b[39;00m \u001b[38;5;28mself\u001b[39m\u001b[38;5;241m.\u001b[39m_forward_pre_hooks\n\u001b[1;32m   1518\u001b[0m         \u001b[38;5;129;01mor\u001b[39;00m _global_backward_pre_hooks \u001b[38;5;129;01mor\u001b[39;00m _global_backward_hooks\n\u001b[1;32m   1519\u001b[0m         \u001b[38;5;129;01mor\u001b[39;00m _global_forward_hooks \u001b[38;5;129;01mor\u001b[39;00m _global_forward_pre_hooks):\n\u001b[0;32m-> 1520\u001b[0m     \u001b[38;5;28;01mreturn\u001b[39;00m \u001b[43mforward_call\u001b[49m\u001b[43m(\u001b[49m\u001b[38;5;241;43m*\u001b[39;49m\u001b[43margs\u001b[49m\u001b[43m,\u001b[49m\u001b[43m \u001b[49m\u001b[38;5;241;43m*\u001b[39;49m\u001b[38;5;241;43m*\u001b[39;49m\u001b[43mkwargs\u001b[49m\u001b[43m)\u001b[49m\n\u001b[1;32m   1522\u001b[0m \u001b[38;5;28;01mtry\u001b[39;00m:\n\u001b[1;32m   1523\u001b[0m     result \u001b[38;5;241m=\u001b[39m \u001b[38;5;28;01mNone\u001b[39;00m\n",
      "File \u001b[0;32m~/Library/CloudStorage/OneDrive-GeorgiaInstituteofTechnology/Spring 2024/CS 7643/emotion_tts/DeepLearningExamples/PyTorch/SpeechSynthesis/Tacotron2/tacotron2/model.py:507\u001b[0m, in \u001b[0;36mDecoder.forward\u001b[0;34m(self, memory, decoder_inputs, memory_lengths)\u001b[0m\n\u001b[1;32m    504\u001b[0m     gate_outputs \u001b[38;5;241m+\u001b[39m\u001b[38;5;241m=\u001b[39m [gate_output\u001b[38;5;241m.\u001b[39msqueeze()]\n\u001b[1;32m    505\u001b[0m     alignments \u001b[38;5;241m+\u001b[39m\u001b[38;5;241m=\u001b[39m [attention_weights]\n\u001b[0;32m--> 507\u001b[0m mel_outputs, gate_outputs, alignments \u001b[38;5;241m=\u001b[39m \u001b[38;5;28;43mself\u001b[39;49m\u001b[38;5;241;43m.\u001b[39;49m\u001b[43mparse_decoder_outputs\u001b[49m\u001b[43m(\u001b[49m\n\u001b[1;32m    508\u001b[0m \u001b[43m    \u001b[49m\u001b[43mtorch\u001b[49m\u001b[38;5;241;43m.\u001b[39;49m\u001b[43mstack\u001b[49m\u001b[43m(\u001b[49m\u001b[43mmel_outputs\u001b[49m\u001b[43m)\u001b[49m\u001b[43m,\u001b[49m\n\u001b[1;32m    509\u001b[0m \u001b[43m    \u001b[49m\u001b[43mtorch\u001b[49m\u001b[38;5;241;43m.\u001b[39;49m\u001b[43mstack\u001b[49m\u001b[43m(\u001b[49m\u001b[43mgate_outputs\u001b[49m\u001b[43m)\u001b[49m\u001b[43m,\u001b[49m\n\u001b[1;32m    510\u001b[0m \u001b[43m    \u001b[49m\u001b[43mtorch\u001b[49m\u001b[38;5;241;43m.\u001b[39;49m\u001b[43mstack\u001b[49m\u001b[43m(\u001b[49m\u001b[43malignments\u001b[49m\u001b[43m)\u001b[49m\u001b[43m)\u001b[49m\n\u001b[1;32m    512\u001b[0m \u001b[38;5;28;01mreturn\u001b[39;00m mel_outputs, gate_outputs, alignments\n",
      "File \u001b[0;32m~/Library/CloudStorage/OneDrive-GeorgiaInstituteofTechnology/Spring 2024/CS 7643/emotion_tts/DeepLearningExamples/PyTorch/SpeechSynthesis/Tacotron2/tacotron2/model.py:389\u001b[0m, in \u001b[0;36mDecoder.parse_decoder_outputs\u001b[0;34m(self, mel_outputs, gate_outputs, alignments)\u001b[0m\n\u001b[1;32m    387\u001b[0m alignments \u001b[38;5;241m=\u001b[39m alignments\u001b[38;5;241m.\u001b[39mtranspose(\u001b[38;5;241m0\u001b[39m, \u001b[38;5;241m1\u001b[39m)\u001b[38;5;241m.\u001b[39mcontiguous()\n\u001b[1;32m    388\u001b[0m \u001b[38;5;66;03m# (T_out, B) -> (B, T_out)\u001b[39;00m\n\u001b[0;32m--> 389\u001b[0m gate_outputs \u001b[38;5;241m=\u001b[39m \u001b[43mgate_outputs\u001b[49m\u001b[38;5;241;43m.\u001b[39;49m\u001b[43mtranspose\u001b[49m\u001b[43m(\u001b[49m\u001b[38;5;241;43m0\u001b[39;49m\u001b[43m,\u001b[49m\u001b[43m \u001b[49m\u001b[38;5;241;43m1\u001b[39;49m\u001b[43m)\u001b[49m\u001b[38;5;241m.\u001b[39mcontiguous()\n\u001b[1;32m    390\u001b[0m \u001b[38;5;66;03m# (T_out, B, n_mel_channels) -> (B, T_out, n_mel_channels)\u001b[39;00m\n\u001b[1;32m    391\u001b[0m mel_outputs \u001b[38;5;241m=\u001b[39m mel_outputs\u001b[38;5;241m.\u001b[39mtranspose(\u001b[38;5;241m0\u001b[39m, \u001b[38;5;241m1\u001b[39m)\u001b[38;5;241m.\u001b[39mcontiguous()\n",
      "\u001b[0;31mIndexError\u001b[0m: Dimension out of range (expected to be in range of [-1, 0], but got 1)"
     ]
    }
   ],
   "source": [
    "train()"
   ]
  }
 ],
 "metadata": {
  "kernelspec": {
   "display_name": "deep_learning",
   "language": "python",
   "name": "python3"
  },
  "language_info": {
   "codemirror_mode": {
    "name": "ipython",
    "version": 3
   },
   "file_extension": ".py",
   "mimetype": "text/x-python",
   "name": "python",
   "nbconvert_exporter": "python",
   "pygments_lexer": "ipython3",
   "version": "3.11.7"
  }
 },
 "nbformat": 4,
 "nbformat_minor": 2
}
