{
 "cells": [
  {
   "cell_type": "code",
   "execution_count": 2,
   "metadata": {},
   "outputs": [],
   "source": [
    "import os\n",
    "import csv\n",
    "\n",
    "import torch\n",
    "import numpy as np"
   ]
  },
  {
   "cell_type": "code",
   "execution_count": 3,
   "metadata": {},
   "outputs": [],
   "source": [
    "MODEL_NAME = 'Tacotron2'\n",
    "CPU_RUN = True"
   ]
  },
  {
   "cell_type": "code",
   "execution_count": 4,
   "metadata": {},
   "outputs": [],
   "source": [
    "from ESDDataset import ESDDataset\n",
    "\n",
    "d = ESDDataset(dataset_dir='./data/Emotion Speech Dataset')"
   ]
  },
  {
   "cell_type": "code",
   "execution_count": 7,
   "metadata": {},
   "outputs": [],
   "source": [
    "d.df[\"mel_text_pair\"] = d.df['audio_file_path']+'|'+d.df['transcription']+' '+ d.df['emotion_class'].apply(lambda x: str(x))"
   ]
  },
  {
   "cell_type": "code",
   "execution_count": 9,
   "metadata": {},
   "outputs": [],
   "source": [
    "from sklearn.model_selection import train_test_split\n",
    "\n",
    "train, test = train_test_split(d.df, test_size=0.2)\n",
    "\n",
    "train.to_csv(path_or_buf='./data/train_mel_text_pairs.txt', columns=['mel_text_pair'], index=False, header=False, quoting=csv.QUOTE_NONE, escapechar='\\\\')\n",
    "test.to_csv(path_or_buf='./data/test_mel_text_pairs.txt', columns=['mel_text_pair'], index=False, header=False, quoting=csv.QUOTE_NONE, escapechar='\\\\')"
   ]
  },
  {
   "cell_type": "code",
   "execution_count": 10,
   "metadata": {},
   "outputs": [],
   "source": [
    "import argparse\n",
    "from train import parse_args\n",
    "from models import model_parser\n",
    "\n",
    "args = argparse.ArgumentParser()\n",
    "parser = parse_args(args)\n",
    "parser = model_parser(MODEL_NAME, parser)"
   ]
  },
  {
   "cell_type": "code",
   "execution_count": 11,
   "metadata": {},
   "outputs": [],
   "source": [
    "args = parser.parse_args('--epochs 2 -lr 1e-4 -bs 2 -m Tacotron2 -o ./ --sampling-rate 16000'.split())"
   ]
  },
  {
   "cell_type": "code",
   "execution_count": 12,
   "metadata": {},
   "outputs": [],
   "source": [
    "from DeepLearningExamples.PyTorch.SpeechSynthesis.Tacotron2.tacotron2.data_function import TextMelLoader\n",
    "\n",
    "train_dataset = TextMelLoader(dataset_path='', audiopaths_and_text='./data/train_mel_text_pairs.txt', args=args)\n",
    "val_dataset = TextMelLoader(dataset_path='', audiopaths_and_text='./data/test_mel_text_pairs.txt', args=args)"
   ]
  },
  {
   "cell_type": "code",
   "execution_count": 13,
   "metadata": {},
   "outputs": [],
   "source": [
    "from torch.utils.data import DataLoader\n",
    "import data_functions\n",
    "\n",
    "collate_fn = data_functions.get_collate_function(\n",
    "        MODEL_NAME, args.n_frames_per_step)\n",
    "train_loader = DataLoader(train_dataset, num_workers=1, shuffle=False,\n",
    "                              sampler=None,\n",
    "                              batch_size=args.batch_size, pin_memory=False,\n",
    "                              drop_last=True, collate_fn=collate_fn)"
   ]
  },
  {
   "cell_type": "code",
   "execution_count": 14,
   "metadata": {},
   "outputs": [
    {
     "data": {
      "text/plain": [
       "torch.Size([80, 156])"
      ]
     },
     "execution_count": 14,
     "metadata": {},
     "output_type": "execute_result"
    }
   ],
   "source": [
    "train_dataset[0][1].shape"
   ]
  },
  {
   "cell_type": "code",
   "execution_count": 15,
   "metadata": {},
   "outputs": [],
   "source": [
    "def adjust_learning_rate(iteration, epoch, optimizer, learning_rate,\n",
    "                         anneal_steps, anneal_factor, rank):\n",
    "\n",
    "    p = 0\n",
    "    if anneal_steps is not None:\n",
    "        for i, a_step in enumerate(anneal_steps):\n",
    "            if epoch >= int(a_step):\n",
    "                p = p+1\n",
    "\n",
    "    if anneal_factor == 0.3:\n",
    "        lr = learning_rate*((0.1 ** (p//2))*(1.0 if p % 2 == 0 else 0.3))\n",
    "    else:\n",
    "        lr = learning_rate*(anneal_factor ** p)\n",
    "\n",
    "    if optimizer.param_groups[0]['lr'] != lr:\n",
    "        print(step=(epoch, iteration), data={'learning_rate changed': str(optimizer.param_groups[0]['lr'])+\" -> \"+str(lr)})\n",
    "\n",
    "    for param_group in optimizer.param_groups:\n",
    "        param_group['lr'] = lr"
   ]
  },
  {
   "cell_type": "code",
   "execution_count": 16,
   "metadata": {},
   "outputs": [],
   "source": [
    "def validate(model, criterion, valset, epoch, batch_iter, batch_size,\n",
    "             world_size, collate_fn, distributed_run, perf_bench, batch_to_gpu, amp_run):\n",
    "    \"\"\"Handles all the validation scoring and printing\"\"\"\n",
    "    \n",
    "    model.eval()\n",
    "    with torch.no_grad():\n",
    "        val_loader = DataLoader(valset, num_workers=1, shuffle=False,\n",
    "                                sampler=None,\n",
    "                                batch_size=batch_size, pin_memory=False,\n",
    "                                collate_fn=collate_fn,\n",
    "                                drop_last=(True if perf_bench else False))\n",
    "\n",
    "        val_loss = 0.0\n",
    "        num_iters = 0\n",
    "        val_items_per_sec = 0.0\n",
    "        for i, batch in enumerate(val_loader):\n",
    "\n",
    "            x, y, num_items = batch_to_gpu(batch)\n",
    "            #AMP upstream autocast\n",
    "            with torch.cuda.amp.autocast(enabled=amp_run):\n",
    "                y_pred = model(x)\n",
    "                loss = criterion(y_pred, y)\n",
    "\n",
    "            reduced_val_loss = loss.item()\n",
    "            reduced_num_items = num_items.item()\n",
    "            val_loss += reduced_val_loss\n",
    "            \n",
    "            num_iters += 1\n",
    "\n",
    "        val_loss = val_loss/num_iters\n",
    "        val_items_per_sec = val_items_per_sec/num_iters\n",
    "\n",
    "\n",
    "        print(step=(epoch,), data={'val_loss': val_loss})\n",
    "        print(step=(epoch,), data={'val_items_per_sec': val_items_per_sec})\n",
    "\n",
    "        return val_loss, val_items_per_sec"
   ]
  },
  {
   "cell_type": "code",
   "execution_count": 17,
   "metadata": {},
   "outputs": [],
   "source": [
    "def save_checkpoint(model, optimizer, scaler, epoch, config, output_dir,\n",
    "                    model_name, local_rank, world_size):\n",
    "\n",
    "    random_rng_state = torch.random.get_rng_state().cuda()\n",
    "    cuda_rng_state = torch.cuda.get_rng_state(local_rank).cuda()\n",
    "\n",
    "    random_rng_states_all = [torch.empty_like(random_rng_state) for _ in range(world_size)]\n",
    "    cuda_rng_states_all = [torch.empty_like(cuda_rng_state) for _ in range(world_size)]\n",
    "\n",
    "    # if world_size > 1:\n",
    "    #     dist.all_gather(random_rng_states_all, random_rng_state)\n",
    "    #     dist.all_gather(cuda_rng_states_all, cuda_rng_state)\n",
    "    # else:\n",
    "    random_rng_states_all = [random_rng_state]\n",
    "    cuda_rng_states_all = [cuda_rng_state]\n",
    "\n",
    "    random_rng_states_all = torch.stack(random_rng_states_all).cpu()\n",
    "    cuda_rng_states_all = torch.stack(cuda_rng_states_all).cpu()\n",
    "\n",
    "    if local_rank == 0:\n",
    "        checkpoint = {'epoch': epoch,\n",
    "                      'cuda_rng_state_all': cuda_rng_states_all,\n",
    "                      'random_rng_states_all': random_rng_states_all,\n",
    "                      'config': config,\n",
    "                      'state_dict': model.state_dict(),\n",
    "                      'optimizer': optimizer.state_dict(),\n",
    "                      'scaler': scaler.state_dict()}\n",
    "\n",
    "        checkpoint_filename = \"checkpoint_{}_{}.pt\".format(model_name, epoch)\n",
    "        checkpoint_path = os.path.join(output_dir, checkpoint_filename)\n",
    "        print(\"Saving model and optimizer state at epoch {} to {}\".format(\n",
    "            epoch, checkpoint_path))\n",
    "        torch.save(checkpoint, checkpoint_path)\n",
    "\n",
    "        symlink_src = checkpoint_filename\n",
    "        symlink_dst = os.path.join(\n",
    "            output_dir, \"checkpoint_{}_last.pt\".format(model_name))\n",
    "        if os.path.exists(symlink_dst) and os.path.islink(symlink_dst):\n",
    "            print(\"Updating symlink\", symlink_dst, \"to point to\", symlink_src)\n",
    "            os.remove(symlink_dst)\n",
    "\n",
    "        os.symlink(symlink_src, symlink_dst)"
   ]
  },
  {
   "cell_type": "code",
   "execution_count": 18,
   "metadata": {},
   "outputs": [],
   "source": [
    "import models\n",
    "import loss_functions\n",
    "\n",
    "model_config = models.get_model_config(MODEL_NAME, args)\n",
    "model = models.get_model(MODEL_NAME, model_config, CPU_RUN,\n",
    "                         uniform_initialize_bn_weight=not args.disable_uniform_initialize_bn_weight)\n",
    "\n",
    "optimizer = torch.optim.Adam(model.parameters(), lr=args.learning_rate,\n",
    "                                 weight_decay=args.weight_decay)\n",
    "scaler = torch.cuda.amp.GradScaler(enabled=args.amp)\n",
    "\n",
    "criterion = loss_functions.get_loss_function(MODEL_NAME, sigma=None)"
   ]
  },
  {
   "cell_type": "code",
   "execution_count": 19,
   "metadata": {},
   "outputs": [],
   "source": [
    "def train():\n",
    "    # valset = data_functions.get_data_loader(\n",
    "    #         MODEL_NAME, args.dataset_path, args.validation_files, args)\n",
    "    batch_to_gpu = data_functions.get_batch_to_gpu(MODEL_NAME)\n",
    "\n",
    "    local_rank, world_size = args.rank, args.world_size\n",
    "    distributed_run = world_size > 1\n",
    "\n",
    "    epoch = [0]\n",
    "    start_epoch = epoch[0]\n",
    "    iteration = 0\n",
    "\n",
    "    for epoch in range(start_epoch, args.epochs):\n",
    "        # used to calculate avg items/sec over epoch\n",
    "        reduced_num_items_epoch = 0\n",
    "        \n",
    "        num_iters = 0\n",
    "        reduced_loss = 0\n",
    "        \n",
    "        for i, batch in enumerate(train_loader):\n",
    "            adjust_learning_rate(iteration, epoch, optimizer, args.learning_rate,\n",
    "                                        args.anneal_steps, args.anneal_factor, local_rank)\n",
    "\n",
    "            model.zero_grad()\n",
    "            x, y, num_items = batch_to_gpu(batch)\n",
    "\n",
    "            y_pred = model(x)\n",
    "            loss = criterion(y_pred, y)\n",
    "\n",
    "            reduced_loss = loss.item()\n",
    "            reduced_num_items = num_items.item()\n",
    "            if np.isnan(reduced_loss):\n",
    "                raise Exception(\"loss is NaN\")\n",
    "            \n",
    "\n",
    "            print(f\"step={(epoch,i)}\", f\"data='train_loss':{reduced_loss}\")\n",
    "            num_iters += 1\n",
    "\n",
    "            # accumulate number of items processed in this epoch\n",
    "            reduced_num_items_epoch += reduced_num_items\n",
    "\n",
    "            if args.amp:\n",
    "                scaler.scale(loss).backward()\n",
    "                scaler.unscale_(optimizer)\n",
    "                torch.nn.utils.clip_grad_norm_(\n",
    "                    model.parameters(), args.grad_clip_thresh)\n",
    "                scaler.step(optimizer)\n",
    "                scaler.update()\n",
    "            else:\n",
    "                loss.backward()\n",
    "                torch.nn.utils.clip_grad_norm_(\n",
    "                    model.parameters(), args.grad_clip_thresh)\n",
    "                optimizer.step()\n",
    "\n",
    "            model.zero_grad(set_to_none=True)\n",
    "            \n",
    "            print(f\"step={(epoch,i)}\", f\"data=train_loss: {reduced_loss}\")\n",
    "            # print(step=(epoch,), data={'train_epoch_time': epoch_time})\n",
    "\n",
    "            # val_loss, val_items_per_sec = validate(model, criterion, val_dataset, epoch,\n",
    "            #                                     iteration, args.batch_size,\n",
    "            #                                     world_size, collate_fn,\n",
    "            #                                     distributed_run, args.bench_class==\"perf-train\",\n",
    "            #                                     batch_to_gpu,\n",
    "            #                                     args.amp)\n",
    "\n",
    "            # if (epoch % args.epochs_per_checkpoint == 0) and (args.bench_class == \"\" or args.bench_class == \"train\"):\n",
    "            #     save_checkpoint(model, optimizer, scaler, epoch, model_config,\n",
    "            #                     args.output, args.model_name, local_rank, world_size)\n",
    "                \n",
    "            # print(f\"step=tuple({(epoch,i)})\", f\"data=val_loss: {val_loss}\")\n",
    "            # print(f\"step=tuple({(epoch,i)})\", f\"data=train_loss:{reduced_loss}\")"
   ]
  },
  {
   "cell_type": "code",
   "execution_count": 20,
   "metadata": {},
   "outputs": [
    {
     "name": "stdout",
     "output_type": "stream",
     "text": [
      "step=(0, 0) data='train_loss':99.23390197753906\n",
      "step=(0, 0) data=train_loss: 99.23390197753906\n",
      "step=(0, 1) data='train_loss':86.51709747314453\n",
      "step=(0, 1) data=train_loss: 86.51709747314453\n",
      "step=(0, 2) data='train_loss':84.7262954711914\n",
      "step=(0, 2) data=train_loss: 84.7262954711914\n",
      "step=(0, 3) data='train_loss':97.55835723876953\n",
      "step=(0, 3) data=train_loss: 97.55835723876953\n",
      "step=(0, 4) data='train_loss':67.19136810302734\n",
      "step=(0, 4) data=train_loss: 67.19136810302734\n",
      "step=(0, 5) data='train_loss':82.4263916015625\n",
      "step=(0, 5) data=train_loss: 82.4263916015625\n",
      "step=(0, 6) data='train_loss':77.16519927978516\n",
      "step=(0, 6) data=train_loss: 77.16519927978516\n",
      "step=(0, 7) data='train_loss':75.04329681396484\n",
      "step=(0, 7) data=train_loss: 75.04329681396484\n",
      "step=(0, 8) data='train_loss':62.84333038330078\n",
      "step=(0, 8) data=train_loss: 62.84333038330078\n",
      "step=(0, 9) data='train_loss':65.18560791015625\n",
      "step=(0, 9) data=train_loss: 65.18560791015625\n",
      "step=(0, 10) data='train_loss':47.669437408447266\n",
      "step=(0, 10) data=train_loss: 47.669437408447266\n",
      "step=(0, 11) data='train_loss':56.647705078125\n",
      "step=(0, 11) data=train_loss: 56.647705078125\n",
      "step=(0, 12) data='train_loss':42.96385955810547\n",
      "step=(0, 12) data=train_loss: 42.96385955810547\n",
      "step=(0, 13) data='train_loss':45.25273513793945\n",
      "step=(0, 13) data=train_loss: 45.25273513793945\n",
      "step=(0, 14) data='train_loss':45.37409210205078\n",
      "step=(0, 14) data=train_loss: 45.37409210205078\n",
      "step=(0, 15) data='train_loss':31.205158233642578\n",
      "step=(0, 15) data=train_loss: 31.205158233642578\n",
      "step=(0, 16) data='train_loss':29.986608505249023\n",
      "step=(0, 16) data=train_loss: 29.986608505249023\n",
      "step=(0, 17) data='train_loss':32.835880279541016\n",
      "step=(0, 17) data=train_loss: 32.835880279541016\n",
      "step=(0, 18) data='train_loss':31.830568313598633\n",
      "step=(0, 18) data=train_loss: 31.830568313598633\n",
      "step=(0, 19) data='train_loss':28.71369743347168\n",
      "step=(0, 19) data=train_loss: 28.71369743347168\n",
      "step=(0, 20) data='train_loss':27.417264938354492\n",
      "step=(0, 20) data=train_loss: 27.417264938354492\n",
      "step=(0, 21) data='train_loss':27.215091705322266\n",
      "step=(0, 21) data=train_loss: 27.215091705322266\n",
      "step=(0, 22) data='train_loss':22.14774513244629\n",
      "step=(0, 22) data=train_loss: 22.14774513244629\n",
      "step=(0, 23) data='train_loss':31.669387817382812\n",
      "step=(0, 23) data=train_loss: 31.669387817382812\n",
      "step=(0, 24) data='train_loss':22.310022354125977\n",
      "step=(0, 24) data=train_loss: 22.310022354125977\n",
      "step=(0, 25) data='train_loss':25.779142379760742\n",
      "step=(0, 25) data=train_loss: 25.779142379760742\n",
      "step=(0, 26) data='train_loss':21.267087936401367\n",
      "step=(0, 26) data=train_loss: 21.267087936401367\n",
      "step=(0, 27) data='train_loss':14.217340469360352\n",
      "step=(0, 27) data=train_loss: 14.217340469360352\n",
      "step=(0, 28) data='train_loss':21.450536727905273\n",
      "step=(0, 28) data=train_loss: 21.450536727905273\n",
      "step=(0, 29) data='train_loss':18.347850799560547\n",
      "step=(0, 29) data=train_loss: 18.347850799560547\n",
      "step=(0, 30) data='train_loss':16.815391540527344\n",
      "step=(0, 30) data=train_loss: 16.815391540527344\n"
     ]
    },
    {
     "name": "stderr",
     "output_type": "stream",
     "text": [
      "/Users/pranavraj/Desktop/Spring 2024/DL/emotion_tts/DeepLearningExamples/PyTorch/SpeechSynthesis/Tacotron2/tacotron2_common/utils.py:59: WavFileWarning: Chunk (non-data) not understood, skipping it.\n",
      "  sampling_rate, data = read(full_path)\n"
     ]
    },
    {
     "name": "stdout",
     "output_type": "stream",
     "text": [
      "step=(0, 31) data='train_loss':21.117393493652344\n",
      "step=(0, 31) data=train_loss: 21.117393493652344\n",
      "step=(0, 32) data='train_loss':15.10073184967041\n",
      "step=(0, 32) data=train_loss: 15.10073184967041\n",
      "step=(0, 33) data='train_loss':14.784010887145996\n",
      "step=(0, 33) data=train_loss: 14.784010887145996\n",
      "step=(0, 34) data='train_loss':14.595534324645996\n",
      "step=(0, 34) data=train_loss: 14.595534324645996\n",
      "step=(0, 35) data='train_loss':17.480764389038086\n",
      "step=(0, 35) data=train_loss: 17.480764389038086\n",
      "step=(0, 36) data='train_loss':16.831592559814453\n",
      "step=(0, 36) data=train_loss: 16.831592559814453\n",
      "step=(0, 37) data='train_loss':18.95811653137207\n",
      "step=(0, 37) data=train_loss: 18.95811653137207\n",
      "step=(0, 38) data='train_loss':13.667299270629883\n",
      "step=(0, 38) data=train_loss: 13.667299270629883\n",
      "step=(0, 39) data='train_loss':14.229693412780762\n",
      "step=(0, 39) data=train_loss: 14.229693412780762\n",
      "step=(0, 40) data='train_loss':16.352968215942383\n",
      "step=(0, 40) data=train_loss: 16.352968215942383\n",
      "step=(0, 41) data='train_loss':13.382713317871094\n",
      "step=(0, 41) data=train_loss: 13.382713317871094\n",
      "step=(0, 42) data='train_loss':13.181575775146484\n",
      "step=(0, 42) data=train_loss: 13.181575775146484\n",
      "step=(0, 43) data='train_loss':10.963699340820312\n",
      "step=(0, 43) data=train_loss: 10.963699340820312\n",
      "step=(0, 44) data='train_loss':13.407211303710938\n",
      "step=(0, 44) data=train_loss: 13.407211303710938\n",
      "step=(0, 45) data='train_loss':9.9409818649292\n",
      "step=(0, 45) data=train_loss: 9.9409818649292\n",
      "step=(0, 46) data='train_loss':10.398036003112793\n",
      "step=(0, 46) data=train_loss: 10.398036003112793\n",
      "step=(0, 47) data='train_loss':9.47282886505127\n",
      "step=(0, 47) data=train_loss: 9.47282886505127\n",
      "step=(0, 48) data='train_loss':8.373750686645508\n",
      "step=(0, 48) data=train_loss: 8.373750686645508\n",
      "step=(0, 49) data='train_loss':7.4105119705200195\n",
      "step=(0, 49) data=train_loss: 7.4105119705200195\n",
      "step=(0, 50) data='train_loss':7.067954063415527\n",
      "step=(0, 50) data=train_loss: 7.067954063415527\n",
      "step=(0, 51) data='train_loss':7.576480865478516\n",
      "step=(0, 51) data=train_loss: 7.576480865478516\n",
      "step=(0, 52) data='train_loss':5.920854568481445\n",
      "step=(0, 52) data=train_loss: 5.920854568481445\n",
      "step=(0, 53) data='train_loss':6.430703163146973\n",
      "step=(0, 53) data=train_loss: 6.430703163146973\n",
      "step=(0, 54) data='train_loss':8.416417121887207\n",
      "step=(0, 54) data=train_loss: 8.416417121887207\n",
      "step=(0, 55) data='train_loss':8.21721363067627\n",
      "step=(0, 55) data=train_loss: 8.21721363067627\n",
      "step=(0, 56) data='train_loss':7.461265563964844\n",
      "step=(0, 56) data=train_loss: 7.461265563964844\n",
      "step=(0, 57) data='train_loss':7.294293403625488\n",
      "step=(0, 57) data=train_loss: 7.294293403625488\n",
      "step=(0, 58) data='train_loss':7.691482067108154\n",
      "step=(0, 58) data=train_loss: 7.691482067108154\n",
      "step=(0, 59) data='train_loss':7.316215515136719\n",
      "step=(0, 59) data=train_loss: 7.316215515136719\n",
      "step=(0, 60) data='train_loss':6.105876445770264\n",
      "step=(0, 60) data=train_loss: 6.105876445770264\n",
      "step=(0, 61) data='train_loss':6.333077907562256\n",
      "step=(0, 61) data=train_loss: 6.333077907562256\n",
      "step=(0, 62) data='train_loss':6.875280857086182\n",
      "step=(0, 62) data=train_loss: 6.875280857086182\n",
      "step=(0, 63) data='train_loss':6.549068450927734\n",
      "step=(0, 63) data=train_loss: 6.549068450927734\n",
      "step=(0, 64) data='train_loss':5.928365707397461\n"
     ]
    }
   ],
   "source": [
    "train()"
   ]
  },
  {
   "cell_type": "code",
   "execution_count": 26,
   "metadata": {},
   "outputs": [],
   "source": [
    "from DeepLearningExamples.PyTorch.SpeechSynthesis.Tacotron2.inference import prepare_input_sequence\n",
    "from DeepLearningExamples.PyTorch.SpeechSynthesis.Tacotron2 import inference\n",
    "from DeepLearningExamples.PyTorch.SpeechSynthesis.Tacotron2.waveglow.model import WaveGlow\n"
   ]
  },
  {
   "cell_type": "code",
   "execution_count": 27,
   "metadata": {},
   "outputs": [
    {
     "ename": "AssertionError",
     "evalue": "Torch not compiled with CUDA enabled",
     "output_type": "error",
     "traceback": [
      "\u001b[0;31m---------------------------------------------------------------------------\u001b[0m",
      "\u001b[0;31mAssertionError\u001b[0m                            Traceback (most recent call last)",
      "Cell \u001b[0;32mIn[27], line 2\u001b[0m\n\u001b[1;32m      1\u001b[0m text \u001b[38;5;241m=\u001b[39m \u001b[38;5;124m\"\u001b[39m\u001b[38;5;124mHI I LOVE VIDEO GAMES.\u001b[39m\u001b[38;5;124m\"\u001b[39m \n\u001b[0;32m----> 2\u001b[0m sequences, lengths \u001b[38;5;241m=\u001b[39m \u001b[43mprepare_input_sequence\u001b[49m\u001b[43m(\u001b[49m\u001b[43m[\u001b[49m\u001b[43mtext\u001b[49m\u001b[43m]\u001b[49m\u001b[43m)\u001b[49m\n\u001b[1;32m      4\u001b[0m \u001b[38;5;28;01mwith\u001b[39;00m torch\u001b[38;5;241m.\u001b[39mno_grad():\n\u001b[1;32m      5\u001b[0m     mel, _, _ \u001b[38;5;241m=\u001b[39m inference(sequences, lengths)\n",
      "File \u001b[0;32m~/Desktop/Spring 2024/DL/emotion_tts/DeepLearningExamples/PyTorch/SpeechSynthesis/Tacotron2/inference.py:166\u001b[0m, in \u001b[0;36mprepare_input_sequence\u001b[0;34m(texts, cpu_run)\u001b[0m\n\u001b[1;32m    164\u001b[0m text_padded, input_lengths \u001b[38;5;241m=\u001b[39m pad_sequences(d)\n\u001b[1;32m    165\u001b[0m \u001b[38;5;28;01mif\u001b[39;00m \u001b[38;5;129;01mnot\u001b[39;00m cpu_run:\n\u001b[0;32m--> 166\u001b[0m     text_padded \u001b[38;5;241m=\u001b[39m \u001b[43mtext_padded\u001b[49m\u001b[38;5;241;43m.\u001b[39;49m\u001b[43mcuda\u001b[49m\u001b[43m(\u001b[49m\u001b[43m)\u001b[49m\u001b[38;5;241m.\u001b[39mlong()\n\u001b[1;32m    167\u001b[0m     input_lengths \u001b[38;5;241m=\u001b[39m input_lengths\u001b[38;5;241m.\u001b[39mcuda()\u001b[38;5;241m.\u001b[39mlong()\n\u001b[1;32m    168\u001b[0m \u001b[38;5;28;01melse\u001b[39;00m:\n",
      "File \u001b[0;32m~/miniconda3/envs/ml_hw4/lib/python3.10/site-packages/torch/cuda/__init__.py:293\u001b[0m, in \u001b[0;36m_lazy_init\u001b[0;34m()\u001b[0m\n\u001b[1;32m    288\u001b[0m     \u001b[38;5;28;01mraise\u001b[39;00m \u001b[38;5;167;01mRuntimeError\u001b[39;00m(\n\u001b[1;32m    289\u001b[0m         \u001b[38;5;124m\"\u001b[39m\u001b[38;5;124mCannot re-initialize CUDA in forked subprocess. To use CUDA with \u001b[39m\u001b[38;5;124m\"\u001b[39m\n\u001b[1;32m    290\u001b[0m         \u001b[38;5;124m\"\u001b[39m\u001b[38;5;124mmultiprocessing, you must use the \u001b[39m\u001b[38;5;124m'\u001b[39m\u001b[38;5;124mspawn\u001b[39m\u001b[38;5;124m'\u001b[39m\u001b[38;5;124m start method\u001b[39m\u001b[38;5;124m\"\u001b[39m\n\u001b[1;32m    291\u001b[0m     )\n\u001b[1;32m    292\u001b[0m \u001b[38;5;28;01mif\u001b[39;00m \u001b[38;5;129;01mnot\u001b[39;00m \u001b[38;5;28mhasattr\u001b[39m(torch\u001b[38;5;241m.\u001b[39m_C, \u001b[38;5;124m\"\u001b[39m\u001b[38;5;124m_cuda_getDeviceCount\u001b[39m\u001b[38;5;124m\"\u001b[39m):\n\u001b[0;32m--> 293\u001b[0m     \u001b[38;5;28;01mraise\u001b[39;00m \u001b[38;5;167;01mAssertionError\u001b[39;00m(\u001b[38;5;124m\"\u001b[39m\u001b[38;5;124mTorch not compiled with CUDA enabled\u001b[39m\u001b[38;5;124m\"\u001b[39m)\n\u001b[1;32m    294\u001b[0m \u001b[38;5;28;01mif\u001b[39;00m _cudart \u001b[38;5;129;01mis\u001b[39;00m \u001b[38;5;28;01mNone\u001b[39;00m:\n\u001b[1;32m    295\u001b[0m     \u001b[38;5;28;01mraise\u001b[39;00m \u001b[38;5;167;01mAssertionError\u001b[39;00m(\n\u001b[1;32m    296\u001b[0m         \u001b[38;5;124m\"\u001b[39m\u001b[38;5;124mlibcudart functions unavailable. It looks like you have a broken build?\u001b[39m\u001b[38;5;124m\"\u001b[39m\n\u001b[1;32m    297\u001b[0m     )\n",
      "\u001b[0;31mAssertionError\u001b[0m: Torch not compiled with CUDA enabled"
     ]
    }
   ],
   "source": [
    "text = \"HI I LOVE VIDEO GAMES.\" \n",
    "sequences, lengths = prepare_input_sequence([text])\n",
    "\n",
    "with torch.no_grad():\n",
    "    mel, _, _ = inference(sequences, lengths)\n",
    "    audio = WaveGlow.infer(mel)\n",
    "audio_numpy = audio[0].data.cpu().numpy()\n",
    "rate = 22050"
   ]
  },
  {
   "cell_type": "code",
   "execution_count": 29,
   "metadata": {},
   "outputs": [
    {
     "ename": "NameError",
     "evalue": "name 'rate' is not defined",
     "output_type": "error",
     "traceback": [
      "\u001b[0;31m---------------------------------------------------------------------------\u001b[0m",
      "\u001b[0;31mNameError\u001b[0m                                 Traceback (most recent call last)",
      "Cell \u001b[0;32mIn[29], line 2\u001b[0m\n\u001b[1;32m      1\u001b[0m \u001b[38;5;28;01mfrom\u001b[39;00m \u001b[38;5;21;01mscipy\u001b[39;00m\u001b[38;5;21;01m.\u001b[39;00m\u001b[38;5;21;01mio\u001b[39;00m\u001b[38;5;21;01m.\u001b[39;00m\u001b[38;5;21;01mwavfile\u001b[39;00m \u001b[38;5;28;01mimport\u001b[39;00m write\n\u001b[0;32m----> 2\u001b[0m write(\u001b[38;5;124m\"\u001b[39m\u001b[38;5;124maudio.wav\u001b[39m\u001b[38;5;124m\"\u001b[39m, \u001b[43mrate\u001b[49m, audio_numpy)\n\u001b[1;32m      3\u001b[0m \u001b[38;5;28;01mfrom\u001b[39;00m \u001b[38;5;21;01mIPython\u001b[39;00m\u001b[38;5;21;01m.\u001b[39;00m\u001b[38;5;21;01mdisplay\u001b[39;00m \u001b[38;5;28;01mimport\u001b[39;00m Audio\n\u001b[1;32m      4\u001b[0m Audio(audio_numpy, rate\u001b[38;5;241m=\u001b[39mrate)\n",
      "\u001b[0;31mNameError\u001b[0m: name 'rate' is not defined"
     ]
    }
   ],
   "source": [
    "from scipy.io.wavfile import write\n",
    "write(\"audio.wav\", rate, audio_numpy)\n",
    "from IPython.display import Audio\n",
    "Audio(audio_numpy, rate=rate)"
   ]
  },
  {
   "cell_type": "code",
   "execution_count": 30,
   "metadata": {},
   "outputs": [
    {
     "ename": "AssertionError",
     "evalue": "Torch not compiled with CUDA enabled",
     "output_type": "error",
     "traceback": [
      "\u001b[0;31m---------------------------------------------------------------------------\u001b[0m",
      "\u001b[0;31mAssertionError\u001b[0m                            Traceback (most recent call last)",
      "Cell \u001b[0;32mIn[30], line 6\u001b[0m\n\u001b[1;32m      3\u001b[0m \u001b[38;5;28;01mfrom\u001b[39;00m \u001b[38;5;21;01mDeepLearningExamples\u001b[39;00m\u001b[38;5;21;01m.\u001b[39;00m\u001b[38;5;21;01mPyTorch\u001b[39;00m\u001b[38;5;21;01m.\u001b[39;00m\u001b[38;5;21;01mSpeechSynthesis\u001b[39;00m\u001b[38;5;21;01m.\u001b[39;00m\u001b[38;5;21;01mTacotron2\u001b[39;00m\u001b[38;5;21;01m.\u001b[39;00m\u001b[38;5;21;01mwaveglow\u001b[39;00m\u001b[38;5;21;01m.\u001b[39;00m\u001b[38;5;21;01mmodel\u001b[39;00m \u001b[38;5;28;01mimport\u001b[39;00m WaveGlow\n\u001b[1;32m      5\u001b[0m text \u001b[38;5;241m=\u001b[39m \u001b[38;5;124m\"\u001b[39m\u001b[38;5;124mHI I LOVE VIDEO GAMES.\u001b[39m\u001b[38;5;124m\"\u001b[39m \n\u001b[0;32m----> 6\u001b[0m sequences, lengths \u001b[38;5;241m=\u001b[39m \u001b[43mprepare_input_sequence\u001b[49m\u001b[43m(\u001b[49m\u001b[43m[\u001b[49m\u001b[43mtext\u001b[49m\u001b[43m]\u001b[49m\u001b[43m)\u001b[49m\n\u001b[1;32m      8\u001b[0m \u001b[38;5;28;01mwith\u001b[39;00m torch\u001b[38;5;241m.\u001b[39mno_grad():\n\u001b[1;32m      9\u001b[0m     mel, _, _ \u001b[38;5;241m=\u001b[39m inference(sequences, lengths)\n",
      "File \u001b[0;32m~/Desktop/Spring 2024/DL/emotion_tts/DeepLearningExamples/PyTorch/SpeechSynthesis/Tacotron2/inference.py:166\u001b[0m, in \u001b[0;36mprepare_input_sequence\u001b[0;34m(texts, cpu_run)\u001b[0m\n\u001b[1;32m    164\u001b[0m text_padded, input_lengths \u001b[38;5;241m=\u001b[39m pad_sequences(d)\n\u001b[1;32m    165\u001b[0m \u001b[38;5;28;01mif\u001b[39;00m \u001b[38;5;129;01mnot\u001b[39;00m cpu_run:\n\u001b[0;32m--> 166\u001b[0m     text_padded \u001b[38;5;241m=\u001b[39m \u001b[43mtext_padded\u001b[49m\u001b[38;5;241;43m.\u001b[39;49m\u001b[43mcuda\u001b[49m\u001b[43m(\u001b[49m\u001b[43m)\u001b[49m\u001b[38;5;241m.\u001b[39mlong()\n\u001b[1;32m    167\u001b[0m     input_lengths \u001b[38;5;241m=\u001b[39m input_lengths\u001b[38;5;241m.\u001b[39mcuda()\u001b[38;5;241m.\u001b[39mlong()\n\u001b[1;32m    168\u001b[0m \u001b[38;5;28;01melse\u001b[39;00m:\n",
      "File \u001b[0;32m~/miniconda3/envs/ml_hw4/lib/python3.10/site-packages/torch/cuda/__init__.py:293\u001b[0m, in \u001b[0;36m_lazy_init\u001b[0;34m()\u001b[0m\n\u001b[1;32m    288\u001b[0m     \u001b[38;5;28;01mraise\u001b[39;00m \u001b[38;5;167;01mRuntimeError\u001b[39;00m(\n\u001b[1;32m    289\u001b[0m         \u001b[38;5;124m\"\u001b[39m\u001b[38;5;124mCannot re-initialize CUDA in forked subprocess. To use CUDA with \u001b[39m\u001b[38;5;124m\"\u001b[39m\n\u001b[1;32m    290\u001b[0m         \u001b[38;5;124m\"\u001b[39m\u001b[38;5;124mmultiprocessing, you must use the \u001b[39m\u001b[38;5;124m'\u001b[39m\u001b[38;5;124mspawn\u001b[39m\u001b[38;5;124m'\u001b[39m\u001b[38;5;124m start method\u001b[39m\u001b[38;5;124m\"\u001b[39m\n\u001b[1;32m    291\u001b[0m     )\n\u001b[1;32m    292\u001b[0m \u001b[38;5;28;01mif\u001b[39;00m \u001b[38;5;129;01mnot\u001b[39;00m \u001b[38;5;28mhasattr\u001b[39m(torch\u001b[38;5;241m.\u001b[39m_C, \u001b[38;5;124m\"\u001b[39m\u001b[38;5;124m_cuda_getDeviceCount\u001b[39m\u001b[38;5;124m\"\u001b[39m):\n\u001b[0;32m--> 293\u001b[0m     \u001b[38;5;28;01mraise\u001b[39;00m \u001b[38;5;167;01mAssertionError\u001b[39;00m(\u001b[38;5;124m\"\u001b[39m\u001b[38;5;124mTorch not compiled with CUDA enabled\u001b[39m\u001b[38;5;124m\"\u001b[39m)\n\u001b[1;32m    294\u001b[0m \u001b[38;5;28;01mif\u001b[39;00m _cudart \u001b[38;5;129;01mis\u001b[39;00m \u001b[38;5;28;01mNone\u001b[39;00m:\n\u001b[1;32m    295\u001b[0m     \u001b[38;5;28;01mraise\u001b[39;00m \u001b[38;5;167;01mAssertionError\u001b[39;00m(\n\u001b[1;32m    296\u001b[0m         \u001b[38;5;124m\"\u001b[39m\u001b[38;5;124mlibcudart functions unavailable. It looks like you have a broken build?\u001b[39m\u001b[38;5;124m\"\u001b[39m\n\u001b[1;32m    297\u001b[0m     )\n",
      "\u001b[0;31mAssertionError\u001b[0m: Torch not compiled with CUDA enabled"
     ]
    }
   ],
   "source": [
    "from DeepLearningExamples.PyTorch.SpeechSynthesis.Tacotron2.inference import prepare_input_sequence\n",
    "from DeepLearningExamples.PyTorch.SpeechSynthesis.Tacotron2 import inference\n",
    "from DeepLearningExamples.PyTorch.SpeechSynthesis.Tacotron2.waveglow.model import WaveGlow\n",
    "\n",
    "text = \"HI I LOVE VIDEO GAMES.\" \n",
    "sequences, lengths = prepare_input_sequence([text])\n",
    "\n",
    "with torch.no_grad():\n",
    "    mel, _, _ = inference(sequences, lengths)\n",
    "    audio = WaveGlow.infer(mel)\n",
    "audio_numpy = audio[0].data.cpu().numpy()\n",
    "rate = 22050\n",
    "\n",
    "\n",
    "from scipy.io.wavfile import write\n",
    "write(\"audio.wav\", rate, audio_numpy)\n",
    "from IPython.display import Audio\n",
    "Audio(audio_numpy, rate=rate)"
   ]
  }
 ],
 "metadata": {
  "kernelspec": {
   "display_name": "deep_learning",
   "language": "python",
   "name": "python3"
  },
  "language_info": {
   "codemirror_mode": {
    "name": "ipython",
    "version": 3
   },
   "file_extension": ".py",
   "mimetype": "text/x-python",
   "name": "python",
   "nbconvert_exporter": "python",
   "pygments_lexer": "ipython3",
   "version": "3.10.13"
  }
 },
 "nbformat": 4,
 "nbformat_minor": 2
}
