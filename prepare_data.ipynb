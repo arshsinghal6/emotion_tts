{
 "cells": [
  {
   "cell_type": "markdown",
   "metadata": {},
   "source": [
    "# Use CMU-Multimodal-SDK to Obtain Dataset #\n",
    "\n",
    "### First install the SDK by running: ###\n",
    "\n",
    "```console\n",
    "git clone https://github.com/CMU-MultiComp-Lab/CMU-MultimodalSDK.git\n",
    "\n",
    "cd CMU-MultiModalSDK\n",
    "pip install .\n",
    "```\n",
    "\n",
    "\n",
    "Change the `SDK_PATH` variable in `constants/paths.py` to reflect the directory you just created."
   ]
  },
  {
   "cell_type": "code",
   "execution_count": 11,
   "metadata": {},
   "outputs": [
    {
     "name": "stdout",
     "output_type": "stream",
     "text": [
      "\u001b[91m\u001b[1m[2024-04-20 13:35:54.126] | Error   | \u001b[0m./data/CMU_MOSEI_TimestampedWordVectors.csd file already exists ...\n",
      "High-level features have been downloaded previously.\n",
      "\u001b[94m\u001b[1m[2024-04-20 13:35:55.282] | Status  | \u001b[0mDownloading from http://immortal.multicomp.cs.cmu.edu/CMU-MOSEI/language/CMU_MOSEI_TimestampedWords.csd to ./data/CMU_MOSEI_TimestampedWords.csd...\n"
     ]
    },
    {
     "name": "stderr",
     "output_type": "stream",
     "text": [
      "                                                                     \r"
     ]
    },
    {
     "name": "stdout",
     "output_type": "stream",
     "text": [
      "\u001b[92m\u001b[1m[2024-04-20 13:36:01.751] | Success | \u001b[0mDownload complete!\n",
      "\u001b[92m\u001b[1m[2024-04-20 13:36:01.780] | Success | \u001b[0mComputational sequence read from file ./data/CMU_MOSEI_TimestampedWords.csd ...\n",
      "\u001b[94m\u001b[1m[2024-04-20 13:36:01.975] | Status  | \u001b[0mChecking the integrity of the <words> computational sequence ...\n",
      "\u001b[94m\u001b[1m[2024-04-20 13:36:01.975] | Status  | \u001b[0mChecking the format of the data in <words> computational sequence ...\n"
     ]
    },
    {
     "name": "stderr",
     "output_type": "stream",
     "text": [
      "                                                                                  \r"
     ]
    },
    {
     "name": "stdout",
     "output_type": "stream",
     "text": [
      "\u001b[92m\u001b[1m[2024-04-20 13:36:02.614] | Success | \u001b[0m<words> computational sequence data in correct format.\n",
      "\u001b[94m\u001b[1m[2024-04-20 13:36:02.614] | Status  | \u001b[0mChecking the format of the metadata in <words> computational sequence ...\n",
      "\u001b[93m\u001b[1m[2024-04-20 13:36:02.614] | Warning | \u001b[0m<words> computational sequence does not have all the required metadata ... continuing \n",
      "\u001b[94m\u001b[1m[2024-04-20 13:36:02.704] | Status  | \u001b[0mDownloading from http://immortal.multicomp.cs.cmu.edu/CMU-MOSEI/language/CMU_MOSEI_TimestampedPhones.csd to ./data/CMU_MOSEI_TimestampedPhones.csd...\n"
     ]
    },
    {
     "name": "stderr",
     "output_type": "stream",
     "text": [
      "                                                                     \r"
     ]
    },
    {
     "name": "stdout",
     "output_type": "stream",
     "text": [
      "\u001b[92m\u001b[1m[2024-04-20 13:36:11.273] | Success | \u001b[0mDownload complete!\n",
      "\u001b[92m\u001b[1m[2024-04-20 13:36:11.275] | Success | \u001b[0mComputational sequence read from file ./data/CMU_MOSEI_TimestampedPhones.csd ...\n",
      "\u001b[94m\u001b[1m[2024-04-20 13:36:11.322] | Status  | \u001b[0mChecking the integrity of the <phoneme> computational sequence ...\n",
      "\u001b[94m\u001b[1m[2024-04-20 13:36:11.322] | Status  | \u001b[0mChecking the format of the data in <phoneme> computational sequence ...\n"
     ]
    },
    {
     "name": "stderr",
     "output_type": "stream",
     "text": [
      "                                                                                  \r"
     ]
    },
    {
     "name": "stdout",
     "output_type": "stream",
     "text": [
      "\u001b[92m\u001b[1m[2024-04-20 13:36:12.007] | Success | \u001b[0m<phoneme> computational sequence data in correct format.\n",
      "\u001b[94m\u001b[1m[2024-04-20 13:36:12.007] | Status  | \u001b[0mChecking the format of the metadata in <phoneme> computational sequence ...\n",
      "\u001b[93m\u001b[1m[2024-04-20 13:36:12.007] | Warning | \u001b[0m<phoneme> computational sequence does not have all the required metadata ... continuing \n",
      "\u001b[92m\u001b[1m[2024-04-20 13:36:12.007] | Success | \u001b[0mDataset initialized successfully ... \n",
      "\u001b[94m\u001b[1m[2024-04-20 13:36:12.143] | Status  | \u001b[0mDownloading from http://immortal.multicomp.cs.cmu.edu/CMU-MOSEI/labels/CMU_MOSEI_Labels.csd to ./data/CMU_MOSEI_Labels.csd...\n"
     ]
    },
    {
     "name": "stderr",
     "output_type": "stream",
     "text": [
      "                                                                     \r"
     ]
    },
    {
     "name": "stdout",
     "output_type": "stream",
     "text": [
      "\u001b[92m\u001b[1m[2024-04-20 13:36:15.771] | Success | \u001b[0mDownload complete!\n",
      "\u001b[92m\u001b[1m[2024-04-20 13:36:15.772] | Success | \u001b[0mComputational sequence read from file ./data/CMU_MOSEI_Labels.csd ...\n",
      "\u001b[94m\u001b[1m[2024-04-20 13:36:15.816] | Status  | \u001b[0mChecking the integrity of the <All Labels> computational sequence ...\n",
      "\u001b[94m\u001b[1m[2024-04-20 13:36:15.816] | Status  | \u001b[0mChecking the format of the data in <All Labels> computational sequence ...\n"
     ]
    },
    {
     "name": "stderr",
     "output_type": "stream",
     "text": [
      "                                                                                  "
     ]
    },
    {
     "name": "stdout",
     "output_type": "stream",
     "text": [
      "\u001b[92m\u001b[1m[2024-04-20 13:36:16.288] | Success | \u001b[0m<All Labels> computational sequence data in correct format.\n",
      "\u001b[94m\u001b[1m[2024-04-20 13:36:16.288] | Status  | \u001b[0mChecking the format of the metadata in <All Labels> computational sequence ...\n",
      "\u001b[93m\u001b[1m[2024-04-20 13:36:16.288] | Warning | \u001b[0m<All Labels> computational sequence does not have all the required metadata ... continuing \n",
      "\u001b[92m\u001b[1m[2024-04-20 13:36:16.288] | Success | \u001b[0mDataset initialized successfully ... \n"
     ]
    },
    {
     "name": "stderr",
     "output_type": "stream",
     "text": [
      "\r"
     ]
    }
   ],
   "source": [
    "from constants import SDK_PATH, DATA_PATH, WORD_EMB_PATH, CACHE_PATH\n",
    "import sys\n",
    "\n",
    "if SDK_PATH is None:\n",
    "    print(\"SDK path is not specified! Please specify first in constants/paths.py\")\n",
    "    exit(0)\n",
    "else:\n",
    "    sys.path.append(SDK_PATH)\n",
    "\n",
    "import mmsdk\n",
    "import os\n",
    "import re\n",
    "import numpy as np\n",
    "from mmsdk import mmdatasdk as md\n",
    "from subprocess import check_call, CalledProcessError\n",
    "\n",
    "# create folders for storing the data\n",
    "if not os.path.exists(DATA_PATH):\n",
    "    check_call(' '.join(['mkdir', '-p', DATA_PATH]), shell=True)\n",
    "\n",
    "# download highlevel features, low-level (raw) data and labels for the dataset MOSEI\n",
    "# if the files are already present, instead of downloading it you just load it yourself.\n",
    "\n",
    "DATASET = md.cmu_mosei\n",
    "\n",
    "try:\n",
    "    md.mmdataset(DATASET.highlevel, DATA_PATH)\n",
    "except RuntimeError:\n",
    "    print(\"High-level features have been downloaded previously.\")\n",
    "\n",
    "try:\n",
    "    md.mmdataset(DATASET.raw, DATA_PATH)\n",
    "except RuntimeError:\n",
    "    print(\"Raw data have been downloaded previously.\")\n",
    "    \n",
    "try:\n",
    "    md.mmdataset(DATASET.labels, DATA_PATH)\n",
    "except RuntimeError:\n",
    "    print(\"Labels have been downloaded previously.\")"
   ]
  },
  {
   "cell_type": "code",
   "execution_count": 12,
   "metadata": {},
   "outputs": [
    {
     "name": "stdout",
     "output_type": "stream",
     "text": [
      "CMU_MOSEI_TimestampedWordVectors.csd\n",
      "CMU_MOSEI_COVAREP.csd\n",
      "CMU_MOSEI_TimestampedPhones.csd\n",
      "CMU_MOSEI_TimestampedWords.csd\n",
      "CMU_MOSEI_Labels.csd\n"
     ]
    }
   ],
   "source": [
    "# list the directory contents (should see .csd files which are computational sequences)\n",
    "data_files = os.listdir(DATA_PATH)\n",
    "print('\\n'.join(data_files))"
   ]
  },
  {
   "cell_type": "markdown",
   "metadata": {},
   "source": [
    "## Load the Dataset: ##\n",
    "\n",
    "Create a recipe (dictionary of the form `{feature_name: csd_path}`) and feed it into a `mmdataset` object"
   ]
  },
  {
   "cell_type": "code",
   "execution_count": 13,
   "metadata": {},
   "outputs": [
    {
     "name": "stdout",
     "output_type": "stream",
     "text": [
      "\u001b[92m\u001b[1m[2024-04-20 13:36:34.146] | Success | \u001b[0mComputational sequence read from file ./data/CMU_MOSEI_TimestampedWords.csd ...\n",
      "\u001b[94m\u001b[1m[2024-04-20 13:36:34.534] | Status  | \u001b[0mChecking the integrity of the <words> computational sequence ...\n",
      "\u001b[94m\u001b[1m[2024-04-20 13:36:34.534] | Status  | \u001b[0mChecking the format of the data in <words> computational sequence ...\n"
     ]
    },
    {
     "name": "stderr",
     "output_type": "stream",
     "text": [
      "                                                                                  \r"
     ]
    },
    {
     "name": "stdout",
     "output_type": "stream",
     "text": [
      "\u001b[92m\u001b[1m[2024-04-20 13:36:35.105] | Success | \u001b[0m<words> computational sequence data in correct format.\n",
      "\u001b[94m\u001b[1m[2024-04-20 13:36:35.105] | Status  | \u001b[0mChecking the format of the metadata in <words> computational sequence ...\n",
      "\u001b[93m\u001b[1m[2024-04-20 13:36:35.105] | Warning | \u001b[0m<words> computational sequence does not have all the required metadata ... continuing \n",
      "\u001b[92m\u001b[1m[2024-04-20 13:36:35.105] | Success | \u001b[0mComputational sequence read from file ./data/CMU_MOSEI_COVAREP.csd ...\n",
      "\u001b[94m\u001b[1m[2024-04-20 13:36:35.395] | Status  | \u001b[0mChecking the integrity of the <COVAREP> computational sequence ...\n",
      "\u001b[94m\u001b[1m[2024-04-20 13:36:35.396] | Status  | \u001b[0mChecking the format of the data in <COVAREP> computational sequence ...\n"
     ]
    },
    {
     "name": "stderr",
     "output_type": "stream",
     "text": [
      "                                                                                  "
     ]
    },
    {
     "name": "stdout",
     "output_type": "stream",
     "text": [
      "\u001b[92m\u001b[1m[2024-04-20 13:36:36.518] | Success | \u001b[0m<COVAREP> computational sequence data in correct format.\n",
      "\u001b[94m\u001b[1m[2024-04-20 13:36:36.518] | Status  | \u001b[0mChecking the format of the metadata in <COVAREP> computational sequence ...\n",
      "\u001b[93m\u001b[1m[2024-04-20 13:36:36.518] | Warning | \u001b[0m<COVAREP> computational sequence does not have all the required metadata ... continuing \n",
      "\u001b[92m\u001b[1m[2024-04-20 13:36:36.518] | Success | \u001b[0mDataset initialized successfully ... \n"
     ]
    },
    {
     "name": "stderr",
     "output_type": "stream",
     "text": [
      "\r"
     ]
    }
   ],
   "source": [
    "# define the modalities we want\n",
    "acoustic_field = 'CMU_MOSEI_COVAREP'\n",
    "text_field = 'CMU_MOSEI_TimestampedWords'\n",
    "\n",
    "\n",
    "features = [\n",
    "    text_field, \n",
    "    acoustic_field\n",
    "]\n",
    "\n",
    "recipe = {feat: os.path.join(DATA_PATH, feat) + '.csd' for feat in features}\n",
    "dataset = md.mmdataset(recipe)"
   ]
  },
  {
   "cell_type": "code",
   "execution_count": null,
   "metadata": {},
   "outputs": [],
   "source": []
  }
 ],
 "metadata": {
  "kernelspec": {
   "display_name": "deep_learning",
   "language": "python",
   "name": "python3"
  },
  "language_info": {
   "codemirror_mode": {
    "name": "ipython",
    "version": 3
   },
   "file_extension": ".py",
   "mimetype": "text/x-python",
   "name": "python",
   "nbconvert_exporter": "python",
   "pygments_lexer": "ipython3",
   "version": "3.11.7"
  }
 },
 "nbformat": 4,
 "nbformat_minor": 2
}
